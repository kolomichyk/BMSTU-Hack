{
  "cells": [
    {
      "cell_type": "markdown",
      "metadata": {
        "id": "view-in-github",
        "colab_type": "text"
      },
      "source": [
        "<a href=\"https://colab.research.google.com/github/kolomichyk/BMSTU-Hack/blob/develop/catboost.ipynb\" target=\"_parent\"><img src=\"https://colab.research.google.com/assets/colab-badge.svg\" alt=\"Open In Colab\"/></a>"
      ]
    },
    {
      "cell_type": "markdown",
      "source": [
        "### Инициализация проекта"
      ],
      "metadata": {
        "id": "e0WDM9X3JzYB"
      },
      "id": "e0WDM9X3JzYB"
    },
    {
      "cell_type": "code",
      "execution_count": null,
      "id": "c7c2b6dd",
      "metadata": {
        "cellId": "10sa0resp9xneqremi7hud",
        "id": "c7c2b6dd"
      },
      "outputs": [],
      "source": [
        "#!g1.4\n",
        "import catboost as cb\n",
        "import pandas as pd\n",
        "from sklearn.model_selection import train_test_split\n",
        "from sklearn.metrics import accuracy_score\n",
        "import numpy as np\n",
        "from sklearn.model_selection import cross_validate\n",
        "from sklearn.ensemble import BaggingRegressor\n",
        "from sklearn.preprocessing import Normalizer\n",
        "import pickle"
      ]
    },
    {
      "cell_type": "markdown",
      "source": [
        "### Ввод данных и обработка данных"
      ],
      "metadata": {
        "id": "EfpBcIxHJ2pv"
      },
      "id": "EfpBcIxHJ2pv"
    },
    {
      "cell_type": "code",
      "execution_count": null,
      "id": "af6b8689",
      "metadata": {
        "cellId": "axqau8i5lfrfi3d7fx44ph",
        "id": "af6b8689"
      },
      "outputs": [],
      "source": [
        "#!g1.4\n",
        "data = pd.read_csv('data_train.csv')\n",
        "target = pd.read_csv('train_target.csv')"
      ]
    },
    {
      "cell_type": "code",
      "execution_count": null,
      "id": "949f6fb3",
      "metadata": {
        "cellId": "pnvkfandgsjpz3crt8xl3k",
        "id": "949f6fb3",
        "outputId": "c7748049-6ef9-4f20-bdc6-e0c6dcb62a8f"
      },
      "outputs": [
        {
          "data": {
            "text/plain": [
              "wagnum             0\n",
              "prev_fr_id         0\n",
              "prev_is_load       0\n",
              "prev_snd_org_id    0\n",
              "prev_rsv_org_id    0\n",
              "prev_distance      0\n",
              "snd_st_id          0\n",
              "rsv_st_id          0\n",
              "fr_id              0\n",
              "is_load            0\n",
              "common_ch          0\n",
              "snd_org_id         0\n",
              "rsv_org_id         0\n",
              "prev_freight       0\n",
              "prev_fr_group      0\n",
              "freight            0\n",
              "fr_group           0\n",
              "Travel_time        0\n",
              "Mounth             0\n",
              "dotw               0\n",
              "time_depart        0\n",
              "target             0\n",
              "dtype: int64"
            ]
          },
          "execution_count": 325,
          "metadata": {},
          "output_type": "execute_result"
        }
      ],
      "source": [
        "#!g1.4\n",
        "data['target'] = target\n",
        "data = data.dropna()\n",
        "data = data.drop(columns=['distance', 'vidsobst'])"
      ]
    },
    {
      "cell_type": "code",
      "execution_count": null,
      "id": "a261f67c",
      "metadata": {
        "cellId": "utfjihmqs5m4zb4cb7yj",
        "id": "a261f67c",
        "outputId": "eaedd55a-90ad-47c3-9dba-b28dd759937b"
      },
      "outputs": [
        {
          "name": "stdout",
          "output_type": "stream",
          "text": [
            "(1560446, 21) (1560446,)\n"
          ]
        }
      ],
      "source": [
        "#!g1.4\n",
        "target = data['target']\n",
        "data = data.drop(columns=['target'])"
      ]
    },
    {
      "cell_type": "code",
      "execution_count": null,
      "id": "cc5076b1",
      "metadata": {
        "cellId": "jbh55fiwwgbvbm9trrjqs",
        "id": "cc5076b1"
      },
      "outputs": [],
      "source": [
        "#!g1.4\n",
        "data = data.drop(columns=['time_depart'])"
      ]
    },
    {
      "cell_type": "markdown",
      "source": [
        "### Train Test Split"
      ],
      "metadata": {
        "id": "sIcv44R2J87a"
      },
      "id": "sIcv44R2J87a"
    },
    {
      "cell_type": "code",
      "execution_count": null,
      "id": "0259e46a",
      "metadata": {
        "cellId": "5mqgy1dsagdly9teujuxzs",
        "id": "0259e46a"
      },
      "outputs": [],
      "source": [
        "#!g1.4\n",
        "X_train, X_test, y_train, y_test = train_test_split(\n",
        "    data,\n",
        "    target,\n",
        "    test_size=0.1,\n",
        "    random_state=42\n",
        ")"
      ]
    },
    {
      "cell_type": "markdown",
      "source": [
        "### Создание и обучение моделей на основе catboost"
      ],
      "metadata": {
        "id": "DJHG6od2KAKF"
      },
      "id": "DJHG6od2KAKF"
    },
    {
      "cell_type": "code",
      "execution_count": null,
      "id": "5862fd46",
      "metadata": {
        "cellId": "6g62kk5x863nzp7ffe6s9n",
        "id": "5862fd46"
      },
      "outputs": [],
      "source": [
        "#!g1.4\n",
        "cat_features = ['prev_freight', 'prev_fr_group', 'freight', 'fr_group']\n",
        "one_hot_max_size = 10 \n",
        "intervals = [5, 10]\n",
        "model1 = cb.CatBoostRegressor(\n",
        "    cat_features=cat_features,\n",
        "    iterations=5000,\n",
        "    depth=10,\n",
        "    learning_rate=1,\n",
        "    random_seed=128,\n",
        "    use_best_model=True,\n",
        "    loss_function = \"MAE\"\n",
        ")\n",
        "    "
      ]
    },
    {
      "cell_type": "code",
      "execution_count": null,
      "id": "8a70cd3e",
      "metadata": {
        "cellId": "6wlsm4wuact58hs8dk9lep",
        "execution_id": "42e09103-128c-49ab-bb08-a8b218170c44",
        "id": "8a70cd3e"
      },
      "outputs": [],
      "source": [
        "#!g1.4\n",
        "model1.fit(X_train, y_train, eval_set=(X_test, y_test))"
      ]
    },
    {
      "cell_type": "code",
      "execution_count": null,
      "id": "62116a0b",
      "metadata": {
        "cellId": "gf7t6134v4mm9yf7cfx9t",
        "id": "62116a0b"
      },
      "outputs": [],
      "source": [
        "#!g1.4\n",
        "model2 = cb.CatBoostRegressor(\n",
        "    cat_features=cat_features,\n",
        "    iterations=3000,\n",
        "    depth=8,\n",
        "    learning_rate=1.0,\n",
        "    random_seed=42,\n",
        "    use_best_model=True,\n",
        "    loss_function = \"MAE\"\n",
        ")"
      ]
    },
    {
      "cell_type": "code",
      "execution_count": null,
      "id": "1f768b40",
      "metadata": {
        "cellId": "m00grg7o1g81pan84l7ap",
        "id": "1f768b40"
      },
      "outputs": [],
      "source": [
        "#!g1.4\n",
        "model2.fit(X_train, y_train, eval_set=(X_test, y_test))"
      ]
    },
    {
      "cell_type": "code",
      "execution_count": null,
      "id": "a0913a22",
      "metadata": {
        "cellId": "bjsx5xyk9zdcd6l3aug94",
        "id": "a0913a22"
      },
      "outputs": [],
      "source": [
        "#!g1.4\n",
        "model3 = cb.CatBoostRegressor(\n",
        "    cat_features=cat_features,\n",
        "    iterations=1000,\n",
        "    depth=5,\n",
        "    learning_rate=1,\n",
        "    random_seed=42,\n",
        "    use_best_model=True,\n",
        "    loss_function = \"MAE\"\n",
        ")"
      ]
    },
    {
      "cell_type": "code",
      "execution_count": null,
      "id": "f30de686",
      "metadata": {
        "cellId": "260ysf1uvlvxo0419c7x6",
        "id": "f30de686"
      },
      "outputs": [],
      "source": [
        "#!g1.4\n",
        "model3.fit(X_train, y_train, eval_set=(X_test, y_test))"
      ]
    },
    {
      "cell_type": "code",
      "execution_count": null,
      "id": "59b708ea",
      "metadata": {
        "cellId": "73xyaw02c0du38znahnrul",
        "id": "59b708ea"
      },
      "outputs": [],
      "source": [
        "#!g1.4\n",
        "model4 = cb.CatBoostRegressor(\n",
        "    cat_features=cat_features,\n",
        "    iterations=2000,\n",
        "    depth=8,\n",
        "    learning_rate=1,\n",
        "    random_seed=128,\n",
        "    use_best_model=True,\n",
        "    loss_function = \"MAE\"\n",
        ")"
      ]
    },
    {
      "cell_type": "code",
      "execution_count": null,
      "id": "bd77d995",
      "metadata": {
        "cellId": "4gbfrs25z947c8odoqrroj",
        "id": "bd77d995"
      },
      "outputs": [],
      "source": [
        "#!g1.4\n",
        "model4.fit(X_train, y_train, eval_set=(X_test, y_test))"
      ]
    },
    {
      "cell_type": "code",
      "execution_count": null,
      "id": "cecbcb3f",
      "metadata": {
        "cellId": "ft4cxmhxc8rr6of1azg6ys",
        "id": "cecbcb3f"
      },
      "outputs": [],
      "source": [
        "#!g1.4\n",
        "def FindAccuracyBagging(y_test, y_pred1, y_pred2, y_pred3, y_pred4):\n",
        "    return (np.abs(y_test-(y_pred1+y_pred2+y_pred3+y_pred4)/4) < 12).sum() / len(y_test)"
      ]
    },
    {
      "cell_type": "code",
      "execution_count": null,
      "id": "506ae290",
      "metadata": {
        "cellId": "s1gg5pi772wwwb3aoekl",
        "id": "506ae290"
      },
      "outputs": [],
      "source": [
        "#!g1.4\n",
        "FindAccuracyBagging(y_test, model4.predict(X_test), model3.predict(X_test), model2.predict(X_test), model.predict(X_test))"
      ]
    },
    {
      "cell_type": "code",
      "execution_count": null,
      "id": "bee8f23c",
      "metadata": {
        "cellId": "e5fpo5jyuagqpf2cirjld",
        "id": "bee8f23c"
      },
      "outputs": [],
      "source": [
        "#!g1.1\n",
        "model5 = cb.CatBoostRegressor(\n",
        "    cat_features=cat_features,\n",
        "    iterations=500,\n",
        "    depth=16,\n",
        "    learning_rate=0.5,\n",
        "    random_seed=60,\n",
        "    use_best_model=True,\n",
        "    loss_function = \"MAE\"\n",
        ")"
      ]
    },
    {
      "cell_type": "code",
      "execution_count": null,
      "id": "2ed27a12",
      "metadata": {
        "cellId": "h8wr4nyb044uqd30xuq78",
        "id": "2ed27a12"
      },
      "outputs": [],
      "source": [
        "#!g1.1\n",
        "model5.fit(X_train, y_train, eval_set=(X_test, y_test))"
      ]
    },
    {
      "cell_type": "code",
      "execution_count": null,
      "id": "e47598b4",
      "metadata": {
        "cellId": "obfn9bdye73cpo9n8zgnn",
        "id": "e47598b4"
      },
      "outputs": [],
      "source": [
        "#!g1.4\n",
        "def FindAccuracy(y_test, y_pred):\n",
        "    return (np.abs(y_test - y_pred) < 12).sum() / len(y_test)"
      ]
    },
    {
      "cell_type": "code",
      "execution_count": null,
      "id": "04c7b54d",
      "metadata": {
        "cellId": "ilnmmlm7fqsi6bbdoamgik",
        "id": "04c7b54d"
      },
      "outputs": [],
      "source": [
        "#!g1.4\n",
        "FindAccuracy(y_test, model5.predict(X_test))"
      ]
    },
    {
      "cell_type": "markdown",
      "source": [
        "### Выгрузка лучшей модели"
      ],
      "metadata": {
        "id": "88J-ZEvbKHmF"
      },
      "id": "88J-ZEvbKHmF"
    },
    {
      "cell_type": "code",
      "execution_count": null,
      "id": "8750a0ea",
      "metadata": {
        "cellId": "aytp6lvrw5vblxj84xd7gp",
        "id": "8750a0ea"
      },
      "outputs": [],
      "source": [
        "#!g1.4\n",
        "with open('model1.pickle', 'wb') as f:\n",
        "    pickle.dump(model5, f)"
      ]
    },
    {
      "cell_type": "markdown",
      "source": [
        "### Выгрузка итоговых данных"
      ],
      "metadata": {
        "id": "N319sQvYKLAC"
      },
      "id": "N319sQvYKLAC"
    },
    {
      "cell_type": "code",
      "execution_count": null,
      "id": "ab530d6c",
      "metadata": {
        "cellId": "uarb7mshjgi3qwrd51e2",
        "id": "ab530d6c"
      },
      "outputs": [],
      "source": [
        "#!g1.4\n",
        "pd.DataFrame(model.predict(X_test)).to_csv('submit.csv', sep=',', index=False)"
      ]
    }
  ],
  "metadata": {
    "language_info": {
      "codemirror_mode": {
        "name": "ipython",
        "version": 3
      },
      "file_extension": ".py",
      "mimetype": "text/x-python",
      "name": "python",
      "nbconvert_exporter": "python",
      "pygments_lexer": "ipython3",
      "version": "3.7.7"
    },
    "notebookId": "5bd6ac54-a99a-4461-976b-5429026b57ac",
    "notebookPath": "catboost.ipynb",
    "colab": {
      "provenance": [],
      "include_colab_link": true
    }
  },
  "nbformat": 4,
  "nbformat_minor": 5
}
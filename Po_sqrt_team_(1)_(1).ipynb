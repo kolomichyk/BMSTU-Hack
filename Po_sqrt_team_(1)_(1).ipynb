{
  "nbformat": 4,
  "nbformat_minor": 0,
  "metadata": {
    "colab": {
      "provenance": [],
      "include_colab_link": true
    },
    "kernelspec": {
      "name": "python3",
      "display_name": "Python 3"
    },
    "language_info": {
      "name": "python"
    }
  },
  "cells": [
    {
      "cell_type": "markdown",
      "metadata": {
        "id": "view-in-github",
        "colab_type": "text"
      },
      "source": [
        "<a href=\"https://colab.research.google.com/github/kolomichyk/BMSTU-Hack/blob/develop/Po_sqrt_team_(1)_(1).ipynb\" target=\"_parent\"><img src=\"https://colab.research.google.com/assets/colab-badge.svg\" alt=\"Open In Colab\"/></a>"
      ]
    },
    {
      "cell_type": "code",
      "execution_count": 22,
      "metadata": {
        "id": "qX7NJ9cAH_wy"
      },
      "outputs": [],
      "source": [
        "import pandas as pd\n",
        "from seaborn import pairplot\n",
        "from sklearn.preprocessing import StandardScaler\n",
        "from sklearn.model_selection import train_test_split, cross_val_score\n",
        "from sklearn.linear_model import LinearRegression, Lasso\n",
        "from sklearn.ensemble import RandomForestRegressor\n",
        "from statistics import mean\n",
        "from sklearn.metrics import mean_absolute_error\n",
        "import xgboost as xgb"
      ]
    },
    {
      "cell_type": "markdown",
      "source": [
        "###Предобработка данных"
      ],
      "metadata": {
        "id": "jUNJMCdsQsEt"
      }
    },
    {
      "cell_type": "code",
      "source": [
        "data_target = pd.read_csv('/content/train_target.csv')"
      ],
      "metadata": {
        "id": "vZy9d79CICk2"
      },
      "execution_count": 8,
      "outputs": []
    },
    {
      "cell_type": "code",
      "source": [
        "data = pd.read_parquet('/content/train.parquet')"
      ],
      "metadata": {
        "id": "bcUKSYsKINRQ"
      },
      "execution_count": 10,
      "outputs": []
    },
    {
      "cell_type": "code",
      "source": [
        "def addAnswer(data):\n",
        "  for j in range(0, data.shape[0], 19):\n",
        "    NotNullElement  = False\n",
        "    posNotNullElement = 0\n",
        "    for i in range(j+18, j-1, -1):\n",
        "      if (data['milleage_all'][i] and not NotNullElement):\n",
        "        NotNullElement = True\n",
        "        posNotNullElement = i\n",
        "      if (data['milleage_all'][i]):\n",
        "        data['answer'][i] = data_target['target'][j//19] +  data['milleage_all'][posNotNullElement] - data['milleage_all'][i]"
      ],
      "metadata": {
        "id": "wopeYphDjprr"
      },
      "execution_count": 11,
      "outputs": []
    },
    {
      "cell_type": "markdown",
      "source": [
        "Количество пропусков в данных"
      ],
      "metadata": {
        "id": "m1Yv6EB9Qx8s"
      }
    },
    {
      "cell_type": "code",
      "source": [
        "data['answer'] = [0 for i in range(data.shape[0])]"
      ],
      "metadata": {
        "id": "wQwStHoYhtcs"
      },
      "execution_count": null,
      "outputs": []
    },
    {
      "cell_type": "code",
      "source": [
        "addAnswer(data)"
      ],
      "metadata": {
        "id": "hDCBJL68s5pe",
        "colab": {
          "base_uri": "https://localhost:8080/"
        },
        "outputId": "a5e3388b-c356-40e2-cac2-0bb90077dac8"
      },
      "execution_count": null,
      "outputs": [
        {
          "output_type": "stream",
          "name": "stderr",
          "text": [
            "<ipython-input-23-a71db577cb51>:10: SettingWithCopyWarning: \n",
            "A value is trying to be set on a copy of a slice from a DataFrame\n",
            "\n",
            "See the caveats in the documentation: https://pandas.pydata.org/pandas-docs/stable/user_guide/indexing.html#returning-a-view-versus-a-copy\n",
            "  data['answer'][i] = data_target['target'][j//19] +  data['milleage_all'][posNotNullElement] - data['milleage_all'][i]\n"
          ]
        }
      ]
    },
    {
      "cell_type": "markdown",
      "source": [
        "Удаляем строки с пропусками"
      ],
      "metadata": {
        "id": "QnEC21WhQ_bG"
      }
    },
    {
      "cell_type": "code",
      "source": [
        "df = data\n",
        "df = df.dropna(axis=0)\n",
        "df = df.drop(columns=['wagnum', 'ts_id'])\n",
        "df.shape"
      ],
      "metadata": {
        "colab": {
          "base_uri": "https://localhost:8080/"
        },
        "id": "cQjV31g1It6i",
        "outputId": "6f7a5bcf-041f-461d-e3d2-aca0488f7466"
      },
      "execution_count": null,
      "outputs": [
        {
          "output_type": "execute_result",
          "data": {
            "text/plain": [
              "(620886, 10)"
            ]
          },
          "metadata": {},
          "execution_count": 12
        }
      ]
    },
    {
      "cell_type": "code",
      "source": [
        "df.isnull().sum()"
      ],
      "metadata": {
        "colab": {
          "base_uri": "https://localhost:8080/"
        },
        "id": "e0WgjAu7vhLG",
        "outputId": "eb8d80fd-3ace-4e26-f197-c59c2edbe8d9"
      },
      "execution_count": null,
      "outputs": [
        {
          "output_type": "execute_result",
          "data": {
            "text/plain": [
              "milleage_all       0\n",
              "axl1_l_w_flange    0\n",
              "axl1_r_w_flange    0\n",
              "axl2_l_w_flange    0\n",
              "axl2_r_w_flange    0\n",
              "axl3_l_w_flange    0\n",
              "axl3_r_w_flange    0\n",
              "axl4_l_w_flange    0\n",
              "axl4_r_w_flange    0\n",
              "answer             0\n",
              "dtype: int64"
            ]
          },
          "metadata": {},
          "execution_count": 13
        }
      ]
    },
    {
      "cell_type": "markdown",
      "source": [
        "Нормализуем данные"
      ],
      "metadata": {
        "id": "Tr9fDlHjPHdW"
      }
    },
    {
      "cell_type": "code",
      "source": [
        "scaler = StandardScaler()\n",
        "df_normalized = pd.DataFrame(scaler.fit_transform(df), columns=df.columns)"
      ],
      "metadata": {
        "id": "HyuuuhoLRF86"
      },
      "execution_count": null,
      "outputs": []
    },
    {
      "cell_type": "markdown",
      "source": [
        "### Визуализируем данные"
      ],
      "metadata": {
        "id": "yLTJVH-9XXci"
      }
    },
    {
      "cell_type": "code",
      "source": [
        "vdata1 = df_normalized[:1000]"
      ],
      "metadata": {
        "id": "M6avCEGFXfZV"
      },
      "execution_count": null,
      "outputs": []
    },
    {
      "cell_type": "code",
      "source": [
        "pairplot(vdata1)"
      ],
      "metadata": {
        "id": "Tf0zH0BbX4DA"
      },
      "execution_count": null,
      "outputs": []
    },
    {
      "cell_type": "code",
      "source": [
        "vdata1 = vdata1.assign(avg1=vdata1[['axl1_l_w_flange', 'axl1_r_w_flange']].mean(axis=1))\n",
        "vdata1 = vdata1.assign(avg2=vdata1[['axl2_l_w_flange', 'axl2_r_w_flange']].mean(axis=1))\n",
        "vdata1 = vdata1.assign(avg3=vdata1[['axl3_l_w_flange', 'axl3_r_w_flange']].mean(axis=1))\n",
        "vdata1 = vdata1.assign(avg4=vdata1[['axl4_l_w_flange', 'axl4_r_w_flange']].mean(axis=1))"
      ],
      "metadata": {
        "id": "oWM8eftOZUHg"
      },
      "execution_count": null,
      "outputs": []
    },
    {
      "cell_type": "code",
      "source": [
        "pairplot(vdata1.drop(columns=['axl1_l_w_flange', 'axl1_r_w_flange', 'axl2_l_w_flange',\n",
        "       'axl2_r_w_flange', 'axl3_l_w_flange', 'axl3_r_w_flange',\n",
        "       'axl4_l_w_flange', 'axl4_r_w_flange']))"
      ],
      "metadata": {
        "id": "_IcaPSrUbJjr"
      },
      "execution_count": null,
      "outputs": []
    },
    {
      "cell_type": "markdown",
      "source": [
        "### Train test split"
      ],
      "metadata": {
        "id": "xxYLkZQ1wtiD"
      }
    },
    {
      "cell_type": "code",
      "source": [
        "X_train, X_test, y_train, y_test = train_test_split(df_normalized.drop(columns=['answer']), df['answer'], test_size=0.20, random_state=42)"
      ],
      "metadata": {
        "id": "w8mM3ZPywtAH"
      },
      "execution_count": null,
      "outputs": []
    },
    {
      "cell_type": "markdown",
      "source": [
        "### Построение MVP модели"
      ],
      "metadata": {
        "id": "yBkc_PgjwlLh"
      }
    },
    {
      "cell_type": "code",
      "source": [
        "linear_model = LinearRegression().fit(X_train, y_train)"
      ],
      "metadata": {
        "id": "1HYb_K-DwkqL"
      },
      "execution_count": null,
      "outputs": []
    },
    {
      "cell_type": "code",
      "source": [
        "linear_model.score(X_test, y_test)"
      ],
      "metadata": {
        "colab": {
          "base_uri": "https://localhost:8080/"
        },
        "id": "uMUSxxTYxTgo",
        "outputId": "ce7d1af7-3ca5-4437-b20e-057b78672d6f"
      },
      "execution_count": null,
      "outputs": [
        {
          "output_type": "execute_result",
          "data": {
            "text/plain": [
              "0.30000308810642407"
            ]
          },
          "metadata": {},
          "execution_count": 130
        }
      ]
    },
    {
      "cell_type": "code",
      "source": [
        "linear_model.coef_"
      ],
      "metadata": {
        "colab": {
          "base_uri": "https://localhost:8080/"
        },
        "id": "vQMFVfi8xaKn",
        "outputId": "308bce72-3a9f-4554-93b4-c5d8c577d92d"
      },
      "execution_count": null,
      "outputs": [
        {
          "output_type": "execute_result",
          "data": {
            "text/plain": [
              "array([2503.8054303 , 3616.34705899, 3419.74625692, 4271.59964096,\n",
              "       3283.19374453, 3178.51222309, 4354.90039529, 2946.96618875,\n",
              "       3692.85747515])"
            ]
          },
          "metadata": {},
          "execution_count": 134
        }
      ]
    },
    {
      "cell_type": "code",
      "source": [
        "lassoModel = Lasso(alpha = i * 0.25, tol = 0.0925)\n",
        "for i in range(1, 9):\n",
        "    lassoModel.fit(X_train, y_train)\n",
        "    scores = cross_val_score(lassoModel, X_train, y_train, cv = 10)\n",
        "    avg_cross_val_score = mean(scores)*100"
      ],
      "metadata": {
        "id": "w4n_TCnwxkKm"
      },
      "execution_count": null,
      "outputs": []
    },
    {
      "cell_type": "code",
      "source": [
        "lassoModel.score(X_test, y_test)"
      ],
      "metadata": {
        "colab": {
          "base_uri": "https://localhost:8080/"
        },
        "id": "qfi0864Zz3CM",
        "outputId": "a1954c75-9979-4147-d519-96f54749448c"
      },
      "execution_count": null,
      "outputs": [
        {
          "output_type": "execute_result",
          "data": {
            "text/plain": [
              "0.3000033264738413"
            ]
          },
          "metadata": {},
          "execution_count": 152
        }
      ]
    },
    {
      "cell_type": "code",
      "source": [
        "lassoModel.coef_"
      ],
      "metadata": {
        "colab": {
          "base_uri": "https://localhost:8080/"
        },
        "id": "LF4mSpG2z6vI",
        "outputId": "11665f9b-2502-450e-a64c-7c8310b476bf"
      },
      "execution_count": null,
      "outputs": [
        {
          "output_type": "execute_result",
          "data": {
            "text/plain": [
              "array([2500.46019163, 3616.86815621, 3418.48137326, 4268.77719003,\n",
              "       3280.05339539, 3176.46754717, 4354.25616113, 2947.88565021,\n",
              "       3694.55949233])"
            ]
          },
          "metadata": {},
          "execution_count": 151
        }
      ]
    },
    {
      "cell_type": "code",
      "source": [
        "avg_cross_val_score"
      ],
      "metadata": {
        "colab": {
          "base_uri": "https://localhost:8080/"
        },
        "id": "raNDFYID0FTd",
        "outputId": "39ea02a3-257e-42f0-a3c5-4d8e85676bcc"
      },
      "execution_count": null,
      "outputs": [
        {
          "output_type": "execute_result",
          "data": {
            "text/plain": [
              "30.131320657597914"
            ]
          },
          "metadata": {},
          "execution_count": 150
        }
      ]
    },
    {
      "cell_type": "code",
      "source": [
        "mean_absolute_error(y_test, lassoModel.predict(X_test))"
      ],
      "metadata": {
        "colab": {
          "base_uri": "https://localhost:8080/"
        },
        "id": "kLcLSfwI1IBZ",
        "outputId": "d3463143-793e-4303-9291-05500754e211"
      },
      "execution_count": null,
      "outputs": [
        {
          "output_type": "execute_result",
          "data": {
            "text/plain": [
              "23848.71555115389"
            ]
          },
          "metadata": {},
          "execution_count": 155
        }
      ]
    },
    {
      "cell_type": "code",
      "source": [
        "mean_absolute_error(y_test, linear_model.predict(X_test))"
      ],
      "metadata": {
        "colab": {
          "base_uri": "https://localhost:8080/"
        },
        "id": "PneD3gb61Olb",
        "outputId": "dd2a3cce-8e6b-4940-a18a-3f1e629471e0"
      },
      "execution_count": null,
      "outputs": [
        {
          "output_type": "execute_result",
          "data": {
            "text/plain": [
              "23848.742280832463"
            ]
          },
          "metadata": {},
          "execution_count": 157
        }
      ]
    },
    {
      "cell_type": "markdown",
      "source": [
        "### RandomForestRegressor"
      ],
      "metadata": {
        "id": "whEGo1vm0xDd"
      }
    },
    {
      "cell_type": "code",
      "source": [
        "Forest_regressor = RandomForestRegressor(100, criterion=\"absolute_error\", max_depth=15)"
      ],
      "metadata": {
        "id": "cEsuLCG20wam"
      },
      "execution_count": null,
      "outputs": []
    },
    {
      "cell_type": "code",
      "source": [
        "for epoch in range(1):\n",
        "  Forest_regressor.fit(X_train, y_train)"
      ],
      "metadata": {
        "id": "heBGuVpL1qgS"
      },
      "execution_count": null,
      "outputs": []
    },
    {
      "cell_type": "code",
      "source": [
        "mean_absolute_error(y_test, Forest_regressor.predict(X_test))"
      ],
      "metadata": {
        "id": "8lfX4zQR1yb_"
      },
      "execution_count": null,
      "outputs": []
    },
    {
      "cell_type": "markdown",
      "source": [
        "### XGBoost"
      ],
      "metadata": {
        "id": "zcOoo-z4PPf9"
      }
    },
    {
      "cell_type": "code",
      "source": [
        "xgb_r = xgb.XGBRegressor(objective ='reg:linear',\n",
        "                  n_estimators = 10, seed = 42)"
      ],
      "metadata": {
        "id": "eZjOJ8MSPcDF"
      },
      "execution_count": null,
      "outputs": []
    },
    {
      "cell_type": "code",
      "source": [
        "xgb_r.fit(X_train, y_train)"
      ],
      "metadata": {
        "colab": {
          "base_uri": "https://localhost:8080/",
          "height": 265
        },
        "id": "C6yXZcqIQth9",
        "outputId": "88ed0f61-8c31-4e36-9761-3c631a9bac58"
      },
      "execution_count": null,
      "outputs": [
        {
          "metadata": {
            "tags": null
          },
          "name": "stdout",
          "output_type": "stream",
          "text": [
            "[05:50:14] WARNING: ../src/objective/regression_obj.cu:213: reg:linear is now deprecated in favor of reg:squarederror.\n"
          ]
        },
        {
          "data": {
            "text/html": [
              "<style>#sk-container-id-1 {color: black;background-color: white;}#sk-container-id-1 pre{padding: 0;}#sk-container-id-1 div.sk-toggleable {background-color: white;}#sk-container-id-1 label.sk-toggleable__label {cursor: pointer;display: block;width: 100%;margin-bottom: 0;padding: 0.3em;box-sizing: border-box;text-align: center;}#sk-container-id-1 label.sk-toggleable__label-arrow:before {content: \"▸\";float: left;margin-right: 0.25em;color: #696969;}#sk-container-id-1 label.sk-toggleable__label-arrow:hover:before {color: black;}#sk-container-id-1 div.sk-estimator:hover label.sk-toggleable__label-arrow:before {color: black;}#sk-container-id-1 div.sk-toggleable__content {max-height: 0;max-width: 0;overflow: hidden;text-align: left;background-color: #f0f8ff;}#sk-container-id-1 div.sk-toggleable__content pre {margin: 0.2em;color: black;border-radius: 0.25em;background-color: #f0f8ff;}#sk-container-id-1 input.sk-toggleable__control:checked~div.sk-toggleable__content {max-height: 200px;max-width: 100%;overflow: auto;}#sk-container-id-1 input.sk-toggleable__control:checked~label.sk-toggleable__label-arrow:before {content: \"▾\";}#sk-container-id-1 div.sk-estimator input.sk-toggleable__control:checked~label.sk-toggleable__label {background-color: #d4ebff;}#sk-container-id-1 div.sk-label input.sk-toggleable__control:checked~label.sk-toggleable__label {background-color: #d4ebff;}#sk-container-id-1 input.sk-hidden--visually {border: 0;clip: rect(1px 1px 1px 1px);clip: rect(1px, 1px, 1px, 1px);height: 1px;margin: -1px;overflow: hidden;padding: 0;position: absolute;width: 1px;}#sk-container-id-1 div.sk-estimator {font-family: monospace;background-color: #f0f8ff;border: 1px dotted black;border-radius: 0.25em;box-sizing: border-box;margin-bottom: 0.5em;}#sk-container-id-1 div.sk-estimator:hover {background-color: #d4ebff;}#sk-container-id-1 div.sk-parallel-item::after {content: \"\";width: 100%;border-bottom: 1px solid gray;flex-grow: 1;}#sk-container-id-1 div.sk-label:hover label.sk-toggleable__label {background-color: #d4ebff;}#sk-container-id-1 div.sk-serial::before {content: \"\";position: absolute;border-left: 1px solid gray;box-sizing: border-box;top: 0;bottom: 0;left: 50%;z-index: 0;}#sk-container-id-1 div.sk-serial {display: flex;flex-direction: column;align-items: center;background-color: white;padding-right: 0.2em;padding-left: 0.2em;position: relative;}#sk-container-id-1 div.sk-item {position: relative;z-index: 1;}#sk-container-id-1 div.sk-parallel {display: flex;align-items: stretch;justify-content: center;background-color: white;position: relative;}#sk-container-id-1 div.sk-item::before, #sk-container-id-1 div.sk-parallel-item::before {content: \"\";position: absolute;border-left: 1px solid gray;box-sizing: border-box;top: 0;bottom: 0;left: 50%;z-index: -1;}#sk-container-id-1 div.sk-parallel-item {display: flex;flex-direction: column;z-index: 1;position: relative;background-color: white;}#sk-container-id-1 div.sk-parallel-item:first-child::after {align-self: flex-end;width: 50%;}#sk-container-id-1 div.sk-parallel-item:last-child::after {align-self: flex-start;width: 50%;}#sk-container-id-1 div.sk-parallel-item:only-child::after {width: 0;}#sk-container-id-1 div.sk-dashed-wrapped {border: 1px dashed gray;margin: 0 0.4em 0.5em 0.4em;box-sizing: border-box;padding-bottom: 0.4em;background-color: white;}#sk-container-id-1 div.sk-label label {font-family: monospace;font-weight: bold;display: inline-block;line-height: 1.2em;}#sk-container-id-1 div.sk-label-container {text-align: center;}#sk-container-id-1 div.sk-container {/* jupyter's `normalize.less` sets `[hidden] { display: none; }` but bootstrap.min.css set `[hidden] { display: none !important; }` so we also need the `!important` here to be able to override the default hidden behavior on the sphinx rendered scikit-learn.org. See: https://github.com/scikit-learn/scikit-learn/issues/21755 */display: inline-block !important;position: relative;}#sk-container-id-1 div.sk-text-repr-fallback {display: none;}</style><div id=\"sk-container-id-1\" class=\"sk-top-container\"><div class=\"sk-text-repr-fallback\"><pre>XGBRegressor(base_score=None, booster=None, callbacks=None,\n",
              "             colsample_bylevel=None, colsample_bynode=None,\n",
              "             colsample_bytree=None, early_stopping_rounds=None,\n",
              "             enable_categorical=False, eval_metric=None, feature_types=None,\n",
              "             gamma=None, gpu_id=None, grow_policy=None, importance_type=None,\n",
              "             interaction_constraints=None, learning_rate=None, max_bin=None,\n",
              "             max_cat_threshold=None, max_cat_to_onehot=None,\n",
              "             max_delta_step=None, max_depth=None, max_leaves=None,\n",
              "             min_child_weight=None, missing=nan, monotone_constraints=None,\n",
              "             n_estimators=100, n_jobs=None, num_parallel_tree=None,\n",
              "             objective=&#x27;reg:linear&#x27;, predictor=None, ...)</pre><b>In a Jupyter environment, please rerun this cell to show the HTML representation or trust the notebook. <br />On GitHub, the HTML representation is unable to render, please try loading this page with nbviewer.org.</b></div><div class=\"sk-container\" hidden><div class=\"sk-item\"><div class=\"sk-estimator sk-toggleable\"><input class=\"sk-toggleable__control sk-hidden--visually\" id=\"sk-estimator-id-1\" type=\"checkbox\" checked><label for=\"sk-estimator-id-1\" class=\"sk-toggleable__label sk-toggleable__label-arrow\">XGBRegressor</label><div class=\"sk-toggleable__content\"><pre>XGBRegressor(base_score=None, booster=None, callbacks=None,\n",
              "             colsample_bylevel=None, colsample_bynode=None,\n",
              "             colsample_bytree=None, early_stopping_rounds=None,\n",
              "             enable_categorical=False, eval_metric=None, feature_types=None,\n",
              "             gamma=None, gpu_id=None, grow_policy=None, importance_type=None,\n",
              "             interaction_constraints=None, learning_rate=None, max_bin=None,\n",
              "             max_cat_threshold=None, max_cat_to_onehot=None,\n",
              "             max_delta_step=None, max_depth=None, max_leaves=None,\n",
              "             min_child_weight=None, missing=nan, monotone_constraints=None,\n",
              "             n_estimators=100, n_jobs=None, num_parallel_tree=None,\n",
              "             objective=&#x27;reg:linear&#x27;, predictor=None, ...)</pre></div></div></div></div></div>"
            ],
            "text/plain": [
              "XGBRegressor(base_score=None, booster=None, callbacks=None,\n",
              "             colsample_bylevel=None, colsample_bynode=None,\n",
              "             colsample_bytree=None, early_stopping_rounds=None,\n",
              "             enable_categorical=False, eval_metric=None, feature_types=None,\n",
              "             gamma=None, gpu_id=None, grow_policy=None, importance_type=None,\n",
              "             interaction_constraints=None, learning_rate=None, max_bin=None,\n",
              "             max_cat_threshold=None, max_cat_to_onehot=None,\n",
              "             max_delta_step=None, max_depth=None, max_leaves=None,\n",
              "             min_child_weight=None, missing=nan, monotone_constraints=None,\n",
              "             n_estimators=100, n_jobs=None, num_parallel_tree=None,\n",
              "             objective='reg:linear', predictor=None, ...)"
            ]
          },
          "execution_count": 18,
          "metadata": {},
          "output_type": "execute_result"
        }
      ]
    },
    {
      "cell_type": "code",
      "source": [
        "mean_absolute_error(y_test, xgb_r.predict(X_test))"
      ],
      "metadata": {
        "colab": {
          "base_uri": "https://localhost:8080/"
        },
        "id": "ytPJ5_PgQx-c",
        "outputId": "16c1830c-f80a-43a6-b614-1a5c19568473"
      },
      "execution_count": null,
      "outputs": [
        {
          "data": {
            "text/plain": [
              "20146.426607667923"
            ]
          },
          "execution_count": 19,
          "metadata": {},
          "output_type": "execute_result"
        }
      ]
    },
    {
      "cell_type": "markdown",
      "source": [
        "### Вторая теория (Усредним значения)"
      ],
      "metadata": {
        "id": "K1_vzqZ6MR01"
      }
    },
    {
      "cell_type": "code",
      "source": [
        "data.head(20)"
      ],
      "metadata": {
        "id": "SJ8tdZT8Ryt1"
      },
      "execution_count": null,
      "outputs": []
    },
    {
      "cell_type": "code",
      "source": [
        "df = pd.DataFrame(index=range(data.shape[0]//19),columns=data.columns)"
      ],
      "metadata": {
        "id": "yYUcclCoSiM5"
      },
      "execution_count": 13,
      "outputs": []
    },
    {
      "cell_type": "code",
      "source": [
        "data['answer'] = [0 for i in range(data.shape[0])]"
      ],
      "metadata": {
        "id": "JwH4_sEiVYeZ"
      },
      "execution_count": 14,
      "outputs": []
    },
    {
      "cell_type": "code",
      "source": [
        "def make_data(data):\n",
        "  df = pd.DataFrame(index=range(data.shape[0]//19),columns=data.columns)\n",
        "  for j in range(0, data.shape[0], 19):\n",
        "    milleage_all_avg = 0\n",
        "    axl1_l_w_flange_avg = 0\n",
        "    axl1_r_w_flange_avg = 0\n",
        "    axl2_l_w_flange_avg = 0\n",
        "    axl2_r_w_flange_avg = 0\n",
        "    axl3_l_w_flange_avg = 0\n",
        "    axl3_r_w_flange_avg = 0\n",
        "    axl4_l_w_flange_avg = 0\n",
        "    axl4_l_w_flange_avg = 0\n",
        "    axl4_r_w_flange_avg = 0\n",
        "    milleage_all_kol = 0\n",
        "    axl1_l_w_flange_kol = 0\n",
        "    axl1_r_w_flange_kol = 0\n",
        "    axl2_l_w_flange_kol = 0\n",
        "    axl2_r_w_flange_kol = 0\n",
        "    axl3_l_w_flange_kol = 0\n",
        "    axl3_r_w_flange_kol = 0\n",
        "    axl4_l_w_flange_kol = 0\n",
        "    axl4_l_w_flange_kol = 0\n",
        "    axl4_r_w_flange_kol = 0\n",
        "    for i in range(j+18, j-1, -1):\n",
        "      if data['milleage_all'][i]:\n",
        "        milleage_all_avg += data['milleage_all'][i]\n",
        "        milleage_all_kol += 1\n",
        "      if data['axl1_l_w_flange'][i]:\n",
        "        axl1_l_w_flange_avg += data['axl1_l_w_flange'][i]\n",
        "        axl1_l_w_flange_kol += 1\n",
        "      if data['axl1_r_w_flange'][i]:\n",
        "        axl1_r_w_flange_avg += data['axl1_r_w_flange'][i]\n",
        "        axl1_r_w_flange_kol += 1 \n",
        "      if data['axl2_l_w_flange'][i]:\n",
        "        axl2_l_w_flange_avg += data['axl2_l_w_flange'][i]\n",
        "        axl2_l_w_flange_kol += 1\n",
        "      if data['axl2_r_w_flange'][i]:\n",
        "        axl2_r_w_flange_avg += data['axl2_r_w_flange'][i]\n",
        "        axl2_r_w_flange_kol += 1 \n",
        "      if data['axl3_l_w_flange'][i]:\n",
        "        axl3_l_w_flange_avg += data['axl3_l_w_flange'][i]\n",
        "        axl3_l_w_flange_kol += 1\n",
        "      if data['axl3_r_w_flange'][i]:\n",
        "        axl3_r_w_flange_avg += data['axl3_r_w_flange'][i]\n",
        "        axl3_r_w_flange_kol += 1 \n",
        "      if data['axl4_l_w_flange'][i]:\n",
        "        axl4_l_w_flange_avg += data['axl4_l_w_flange'][i]\n",
        "        axl4_l_w_flange_kol += 1\n",
        "      if data['axl4_r_w_flange'][i]:\n",
        "        axl4_r_w_flange_avg += data['axl4_r_w_flange'][i]\n",
        "        axl4_r_w_flange_kol += 1 \n",
        "    df['milleage_all'][j//19] = milleage_all_avg / milleage_all_kol\n",
        "    df['axl1_l_w_flange'][j//19] = axl1_l_w_flange_avg / axl1_l_w_flange_kol\n",
        "    df['axl1_r_w_flange'][j//19] = axl1_r_w_flange_avg / axl1_r_w_flange_kol\n",
        "    df['axl2_l_w_flange'][j//19] = axl2_l_w_flange_avg / axl2_l_w_flange_kol\n",
        "    df['axl2_r_w_flange'][j//19] = axl2_r_w_flange_avg / axl2_r_w_flange_kol\n",
        "    df['axl3_l_w_flange'][j//19] = axl3_l_w_flange_avg / axl3_l_w_flange_kol\n",
        "    df['axl3_r_w_flange'][j//19] = axl3_r_w_flange_avg / axl3_r_w_flange_kol\n",
        "    df['axl4_l_w_flange'][j//19] = axl4_l_w_flange_avg / axl4_l_w_flange_kol\n",
        "    df['axl4_r_w_flange'][j//19] = axl4_r_w_flange_avg / axl4_r_w_flange_kol\n",
        "  return df"
      ],
      "metadata": {
        "id": "2jG_gjsJMQsP"
      },
      "execution_count": 15,
      "outputs": []
    },
    {
      "cell_type": "code",
      "source": [
        "df = make_data(data)"
      ],
      "metadata": {
        "id": "y8CX7xs7Ulmw"
      },
      "execution_count": 16,
      "outputs": []
    },
    {
      "cell_type": "code",
      "source": [
        "df.head()"
      ],
      "metadata": {
        "colab": {
          "base_uri": "https://localhost:8080/",
          "height": 270
        },
        "id": "1YSF34xnXbaz",
        "outputId": "ead73c0f-6fb9-4b9d-90d5-b979fe8df5f3"
      },
      "execution_count": 17,
      "outputs": [
        {
          "output_type": "execute_result",
          "data": {
            "text/plain": [
              "  wagnum ts_id  milleage_all axl1_l_w_flange axl1_r_w_flange axl2_l_w_flange  \\\n",
              "0    NaN   NaN  48215.157895       28.626316       28.852632       28.347368   \n",
              "1    NaN   NaN  18275.736842       29.884211       31.868421       31.747368   \n",
              "2    NaN   NaN  28330.315789       28.805263       27.868421       28.247368   \n",
              "3    NaN   NaN  19096.157895       29.926316       27.752632       27.984211   \n",
              "4    NaN   NaN  11969.263158       32.173684       32.742105       32.384211   \n",
              "\n",
              "  axl2_r_w_flange axl3_l_w_flange axl3_r_w_flange axl4_l_w_flange  \\\n",
              "0       28.552632       29.668421       29.426316       29.584211   \n",
              "1       32.042105       29.984211       31.789474       31.657895   \n",
              "2       27.189474       28.436842       28.873684       28.884211   \n",
              "3       29.178947       30.778947            29.1       30.505263   \n",
              "4       28.926316       32.484211       32.715789       31.742105   \n",
              "\n",
              "  axl4_r_w_flange answer  \n",
              "0       27.805263    NaN  \n",
              "1       30.973684    NaN  \n",
              "2       28.173684    NaN  \n",
              "3       28.421053    NaN  \n",
              "4       31.336842    NaN  "
            ],
            "text/html": [
              "\n",
              "  <div id=\"df-0f2bf5ca-88b5-4dbe-957d-6db64b4e16f2\">\n",
              "    <div class=\"colab-df-container\">\n",
              "      <div>\n",
              "<style scoped>\n",
              "    .dataframe tbody tr th:only-of-type {\n",
              "        vertical-align: middle;\n",
              "    }\n",
              "\n",
              "    .dataframe tbody tr th {\n",
              "        vertical-align: top;\n",
              "    }\n",
              "\n",
              "    .dataframe thead th {\n",
              "        text-align: right;\n",
              "    }\n",
              "</style>\n",
              "<table border=\"1\" class=\"dataframe\">\n",
              "  <thead>\n",
              "    <tr style=\"text-align: right;\">\n",
              "      <th></th>\n",
              "      <th>wagnum</th>\n",
              "      <th>ts_id</th>\n",
              "      <th>milleage_all</th>\n",
              "      <th>axl1_l_w_flange</th>\n",
              "      <th>axl1_r_w_flange</th>\n",
              "      <th>axl2_l_w_flange</th>\n",
              "      <th>axl2_r_w_flange</th>\n",
              "      <th>axl3_l_w_flange</th>\n",
              "      <th>axl3_r_w_flange</th>\n",
              "      <th>axl4_l_w_flange</th>\n",
              "      <th>axl4_r_w_flange</th>\n",
              "      <th>answer</th>\n",
              "    </tr>\n",
              "  </thead>\n",
              "  <tbody>\n",
              "    <tr>\n",
              "      <th>0</th>\n",
              "      <td>NaN</td>\n",
              "      <td>NaN</td>\n",
              "      <td>48215.157895</td>\n",
              "      <td>28.626316</td>\n",
              "      <td>28.852632</td>\n",
              "      <td>28.347368</td>\n",
              "      <td>28.552632</td>\n",
              "      <td>29.668421</td>\n",
              "      <td>29.426316</td>\n",
              "      <td>29.584211</td>\n",
              "      <td>27.805263</td>\n",
              "      <td>NaN</td>\n",
              "    </tr>\n",
              "    <tr>\n",
              "      <th>1</th>\n",
              "      <td>NaN</td>\n",
              "      <td>NaN</td>\n",
              "      <td>18275.736842</td>\n",
              "      <td>29.884211</td>\n",
              "      <td>31.868421</td>\n",
              "      <td>31.747368</td>\n",
              "      <td>32.042105</td>\n",
              "      <td>29.984211</td>\n",
              "      <td>31.789474</td>\n",
              "      <td>31.657895</td>\n",
              "      <td>30.973684</td>\n",
              "      <td>NaN</td>\n",
              "    </tr>\n",
              "    <tr>\n",
              "      <th>2</th>\n",
              "      <td>NaN</td>\n",
              "      <td>NaN</td>\n",
              "      <td>28330.315789</td>\n",
              "      <td>28.805263</td>\n",
              "      <td>27.868421</td>\n",
              "      <td>28.247368</td>\n",
              "      <td>27.189474</td>\n",
              "      <td>28.436842</td>\n",
              "      <td>28.873684</td>\n",
              "      <td>28.884211</td>\n",
              "      <td>28.173684</td>\n",
              "      <td>NaN</td>\n",
              "    </tr>\n",
              "    <tr>\n",
              "      <th>3</th>\n",
              "      <td>NaN</td>\n",
              "      <td>NaN</td>\n",
              "      <td>19096.157895</td>\n",
              "      <td>29.926316</td>\n",
              "      <td>27.752632</td>\n",
              "      <td>27.984211</td>\n",
              "      <td>29.178947</td>\n",
              "      <td>30.778947</td>\n",
              "      <td>29.1</td>\n",
              "      <td>30.505263</td>\n",
              "      <td>28.421053</td>\n",
              "      <td>NaN</td>\n",
              "    </tr>\n",
              "    <tr>\n",
              "      <th>4</th>\n",
              "      <td>NaN</td>\n",
              "      <td>NaN</td>\n",
              "      <td>11969.263158</td>\n",
              "      <td>32.173684</td>\n",
              "      <td>32.742105</td>\n",
              "      <td>32.384211</td>\n",
              "      <td>28.926316</td>\n",
              "      <td>32.484211</td>\n",
              "      <td>32.715789</td>\n",
              "      <td>31.742105</td>\n",
              "      <td>31.336842</td>\n",
              "      <td>NaN</td>\n",
              "    </tr>\n",
              "  </tbody>\n",
              "</table>\n",
              "</div>\n",
              "      <button class=\"colab-df-convert\" onclick=\"convertToInteractive('df-0f2bf5ca-88b5-4dbe-957d-6db64b4e16f2')\"\n",
              "              title=\"Convert this dataframe to an interactive table.\"\n",
              "              style=\"display:none;\">\n",
              "        \n",
              "  <svg xmlns=\"http://www.w3.org/2000/svg\" height=\"24px\"viewBox=\"0 0 24 24\"\n",
              "       width=\"24px\">\n",
              "    <path d=\"M0 0h24v24H0V0z\" fill=\"none\"/>\n",
              "    <path d=\"M18.56 5.44l.94 2.06.94-2.06 2.06-.94-2.06-.94-.94-2.06-.94 2.06-2.06.94zm-11 1L8.5 8.5l.94-2.06 2.06-.94-2.06-.94L8.5 2.5l-.94 2.06-2.06.94zm10 10l.94 2.06.94-2.06 2.06-.94-2.06-.94-.94-2.06-.94 2.06-2.06.94z\"/><path d=\"M17.41 7.96l-1.37-1.37c-.4-.4-.92-.59-1.43-.59-.52 0-1.04.2-1.43.59L10.3 9.45l-7.72 7.72c-.78.78-.78 2.05 0 2.83L4 21.41c.39.39.9.59 1.41.59.51 0 1.02-.2 1.41-.59l7.78-7.78 2.81-2.81c.8-.78.8-2.07 0-2.86zM5.41 20L4 18.59l7.72-7.72 1.47 1.35L5.41 20z\"/>\n",
              "  </svg>\n",
              "      </button>\n",
              "      \n",
              "  <style>\n",
              "    .colab-df-container {\n",
              "      display:flex;\n",
              "      flex-wrap:wrap;\n",
              "      gap: 12px;\n",
              "    }\n",
              "\n",
              "    .colab-df-convert {\n",
              "      background-color: #E8F0FE;\n",
              "      border: none;\n",
              "      border-radius: 50%;\n",
              "      cursor: pointer;\n",
              "      display: none;\n",
              "      fill: #1967D2;\n",
              "      height: 32px;\n",
              "      padding: 0 0 0 0;\n",
              "      width: 32px;\n",
              "    }\n",
              "\n",
              "    .colab-df-convert:hover {\n",
              "      background-color: #E2EBFA;\n",
              "      box-shadow: 0px 1px 2px rgba(60, 64, 67, 0.3), 0px 1px 3px 1px rgba(60, 64, 67, 0.15);\n",
              "      fill: #174EA6;\n",
              "    }\n",
              "\n",
              "    [theme=dark] .colab-df-convert {\n",
              "      background-color: #3B4455;\n",
              "      fill: #D2E3FC;\n",
              "    }\n",
              "\n",
              "    [theme=dark] .colab-df-convert:hover {\n",
              "      background-color: #434B5C;\n",
              "      box-shadow: 0px 1px 3px 1px rgba(0, 0, 0, 0.15);\n",
              "      filter: drop-shadow(0px 1px 2px rgba(0, 0, 0, 0.3));\n",
              "      fill: #FFFFFF;\n",
              "    }\n",
              "  </style>\n",
              "\n",
              "      <script>\n",
              "        const buttonEl =\n",
              "          document.querySelector('#df-0f2bf5ca-88b5-4dbe-957d-6db64b4e16f2 button.colab-df-convert');\n",
              "        buttonEl.style.display =\n",
              "          google.colab.kernel.accessAllowed ? 'block' : 'none';\n",
              "\n",
              "        async function convertToInteractive(key) {\n",
              "          const element = document.querySelector('#df-0f2bf5ca-88b5-4dbe-957d-6db64b4e16f2');\n",
              "          const dataTable =\n",
              "            await google.colab.kernel.invokeFunction('convertToInteractive',\n",
              "                                                     [key], {});\n",
              "          if (!dataTable) return;\n",
              "\n",
              "          const docLinkHtml = 'Like what you see? Visit the ' +\n",
              "            '<a target=\"_blank\" href=https://colab.research.google.com/notebooks/data_table.ipynb>data table notebook</a>'\n",
              "            + ' to learn more about interactive tables.';\n",
              "          element.innerHTML = '';\n",
              "          dataTable['output_type'] = 'display_data';\n",
              "          await google.colab.output.renderOutput(dataTable, element);\n",
              "          const docLink = document.createElement('div');\n",
              "          docLink.innerHTML = docLinkHtml;\n",
              "          element.appendChild(docLink);\n",
              "        }\n",
              "      </script>\n",
              "    </div>\n",
              "  </div>\n",
              "  "
            ]
          },
          "metadata": {},
          "execution_count": 17
        }
      ]
    },
    {
      "cell_type": "code",
      "source": [
        "y = pd.Series(data_target['target'])"
      ],
      "metadata": {
        "id": "K_h3a9pVVOzU"
      },
      "execution_count": 18,
      "outputs": []
    },
    {
      "cell_type": "code",
      "source": [
        "df = df.drop(columns=['wagnum', 'ts_id'])"
      ],
      "metadata": {
        "id": "ELRAXmdJZ6vV"
      },
      "execution_count": 19,
      "outputs": []
    },
    {
      "cell_type": "code",
      "source": [
        "df.head()"
      ],
      "metadata": {
        "colab": {
          "base_uri": "https://localhost:8080/",
          "height": 270
        },
        "id": "Rl4ptdflZ78B",
        "outputId": "e8d84946-c6bc-4c4e-c27b-1ee56a761380"
      },
      "execution_count": null,
      "outputs": [
        {
          "output_type": "execute_result",
          "data": {
            "text/plain": [
              "   milleage_all axl1_l_w_flange axl1_r_w_flange axl2_l_w_flange  \\\n",
              "0  48215.157895       28.626316       28.852632       28.347368   \n",
              "1  18275.736842       29.884211       31.868421       31.747368   \n",
              "2  28330.315789       28.805263       27.868421       28.247368   \n",
              "3  19096.157895       29.926316       27.752632       27.984211   \n",
              "4  11969.263158       32.173684       32.742105       32.384211   \n",
              "\n",
              "  axl2_r_w_flange axl3_l_w_flange axl3_r_w_flange axl4_l_w_flange  \\\n",
              "0       28.552632       29.668421       29.426316       29.584211   \n",
              "1       32.042105       29.984211       31.789474       31.657895   \n",
              "2       27.189474       28.436842       28.873684       28.884211   \n",
              "3       29.178947       30.778947            29.1       30.505263   \n",
              "4       28.926316       32.484211       32.715789       31.742105   \n",
              "\n",
              "  axl4_r_w_flange  \n",
              "0       27.805263  \n",
              "1       30.973684  \n",
              "2       28.173684  \n",
              "3       28.421053  \n",
              "4       31.336842  "
            ],
            "text/html": [
              "\n",
              "  <div id=\"df-d0933d49-da65-41ec-96c5-e6cd9cc8cdec\">\n",
              "    <div class=\"colab-df-container\">\n",
              "      <div>\n",
              "<style scoped>\n",
              "    .dataframe tbody tr th:only-of-type {\n",
              "        vertical-align: middle;\n",
              "    }\n",
              "\n",
              "    .dataframe tbody tr th {\n",
              "        vertical-align: top;\n",
              "    }\n",
              "\n",
              "    .dataframe thead th {\n",
              "        text-align: right;\n",
              "    }\n",
              "</style>\n",
              "<table border=\"1\" class=\"dataframe\">\n",
              "  <thead>\n",
              "    <tr style=\"text-align: right;\">\n",
              "      <th></th>\n",
              "      <th>milleage_all</th>\n",
              "      <th>axl1_l_w_flange</th>\n",
              "      <th>axl1_r_w_flange</th>\n",
              "      <th>axl2_l_w_flange</th>\n",
              "      <th>axl2_r_w_flange</th>\n",
              "      <th>axl3_l_w_flange</th>\n",
              "      <th>axl3_r_w_flange</th>\n",
              "      <th>axl4_l_w_flange</th>\n",
              "      <th>axl4_r_w_flange</th>\n",
              "    </tr>\n",
              "  </thead>\n",
              "  <tbody>\n",
              "    <tr>\n",
              "      <th>0</th>\n",
              "      <td>48215.157895</td>\n",
              "      <td>28.626316</td>\n",
              "      <td>28.852632</td>\n",
              "      <td>28.347368</td>\n",
              "      <td>28.552632</td>\n",
              "      <td>29.668421</td>\n",
              "      <td>29.426316</td>\n",
              "      <td>29.584211</td>\n",
              "      <td>27.805263</td>\n",
              "    </tr>\n",
              "    <tr>\n",
              "      <th>1</th>\n",
              "      <td>18275.736842</td>\n",
              "      <td>29.884211</td>\n",
              "      <td>31.868421</td>\n",
              "      <td>31.747368</td>\n",
              "      <td>32.042105</td>\n",
              "      <td>29.984211</td>\n",
              "      <td>31.789474</td>\n",
              "      <td>31.657895</td>\n",
              "      <td>30.973684</td>\n",
              "    </tr>\n",
              "    <tr>\n",
              "      <th>2</th>\n",
              "      <td>28330.315789</td>\n",
              "      <td>28.805263</td>\n",
              "      <td>27.868421</td>\n",
              "      <td>28.247368</td>\n",
              "      <td>27.189474</td>\n",
              "      <td>28.436842</td>\n",
              "      <td>28.873684</td>\n",
              "      <td>28.884211</td>\n",
              "      <td>28.173684</td>\n",
              "    </tr>\n",
              "    <tr>\n",
              "      <th>3</th>\n",
              "      <td>19096.157895</td>\n",
              "      <td>29.926316</td>\n",
              "      <td>27.752632</td>\n",
              "      <td>27.984211</td>\n",
              "      <td>29.178947</td>\n",
              "      <td>30.778947</td>\n",
              "      <td>29.1</td>\n",
              "      <td>30.505263</td>\n",
              "      <td>28.421053</td>\n",
              "    </tr>\n",
              "    <tr>\n",
              "      <th>4</th>\n",
              "      <td>11969.263158</td>\n",
              "      <td>32.173684</td>\n",
              "      <td>32.742105</td>\n",
              "      <td>32.384211</td>\n",
              "      <td>28.926316</td>\n",
              "      <td>32.484211</td>\n",
              "      <td>32.715789</td>\n",
              "      <td>31.742105</td>\n",
              "      <td>31.336842</td>\n",
              "    </tr>\n",
              "  </tbody>\n",
              "</table>\n",
              "</div>\n",
              "      <button class=\"colab-df-convert\" onclick=\"convertToInteractive('df-d0933d49-da65-41ec-96c5-e6cd9cc8cdec')\"\n",
              "              title=\"Convert this dataframe to an interactive table.\"\n",
              "              style=\"display:none;\">\n",
              "        \n",
              "  <svg xmlns=\"http://www.w3.org/2000/svg\" height=\"24px\"viewBox=\"0 0 24 24\"\n",
              "       width=\"24px\">\n",
              "    <path d=\"M0 0h24v24H0V0z\" fill=\"none\"/>\n",
              "    <path d=\"M18.56 5.44l.94 2.06.94-2.06 2.06-.94-2.06-.94-.94-2.06-.94 2.06-2.06.94zm-11 1L8.5 8.5l.94-2.06 2.06-.94-2.06-.94L8.5 2.5l-.94 2.06-2.06.94zm10 10l.94 2.06.94-2.06 2.06-.94-2.06-.94-.94-2.06-.94 2.06-2.06.94z\"/><path d=\"M17.41 7.96l-1.37-1.37c-.4-.4-.92-.59-1.43-.59-.52 0-1.04.2-1.43.59L10.3 9.45l-7.72 7.72c-.78.78-.78 2.05 0 2.83L4 21.41c.39.39.9.59 1.41.59.51 0 1.02-.2 1.41-.59l7.78-7.78 2.81-2.81c.8-.78.8-2.07 0-2.86zM5.41 20L4 18.59l7.72-7.72 1.47 1.35L5.41 20z\"/>\n",
              "  </svg>\n",
              "      </button>\n",
              "      \n",
              "  <style>\n",
              "    .colab-df-container {\n",
              "      display:flex;\n",
              "      flex-wrap:wrap;\n",
              "      gap: 12px;\n",
              "    }\n",
              "\n",
              "    .colab-df-convert {\n",
              "      background-color: #E8F0FE;\n",
              "      border: none;\n",
              "      border-radius: 50%;\n",
              "      cursor: pointer;\n",
              "      display: none;\n",
              "      fill: #1967D2;\n",
              "      height: 32px;\n",
              "      padding: 0 0 0 0;\n",
              "      width: 32px;\n",
              "    }\n",
              "\n",
              "    .colab-df-convert:hover {\n",
              "      background-color: #E2EBFA;\n",
              "      box-shadow: 0px 1px 2px rgba(60, 64, 67, 0.3), 0px 1px 3px 1px rgba(60, 64, 67, 0.15);\n",
              "      fill: #174EA6;\n",
              "    }\n",
              "\n",
              "    [theme=dark] .colab-df-convert {\n",
              "      background-color: #3B4455;\n",
              "      fill: #D2E3FC;\n",
              "    }\n",
              "\n",
              "    [theme=dark] .colab-df-convert:hover {\n",
              "      background-color: #434B5C;\n",
              "      box-shadow: 0px 1px 3px 1px rgba(0, 0, 0, 0.15);\n",
              "      filter: drop-shadow(0px 1px 2px rgba(0, 0, 0, 0.3));\n",
              "      fill: #FFFFFF;\n",
              "    }\n",
              "  </style>\n",
              "\n",
              "      <script>\n",
              "        const buttonEl =\n",
              "          document.querySelector('#df-d0933d49-da65-41ec-96c5-e6cd9cc8cdec button.colab-df-convert');\n",
              "        buttonEl.style.display =\n",
              "          google.colab.kernel.accessAllowed ? 'block' : 'none';\n",
              "\n",
              "        async function convertToInteractive(key) {\n",
              "          const element = document.querySelector('#df-d0933d49-da65-41ec-96c5-e6cd9cc8cdec');\n",
              "          const dataTable =\n",
              "            await google.colab.kernel.invokeFunction('convertToInteractive',\n",
              "                                                     [key], {});\n",
              "          if (!dataTable) return;\n",
              "\n",
              "          const docLinkHtml = 'Like what you see? Visit the ' +\n",
              "            '<a target=\"_blank\" href=https://colab.research.google.com/notebooks/data_table.ipynb>data table notebook</a>'\n",
              "            + ' to learn more about interactive tables.';\n",
              "          element.innerHTML = '';\n",
              "          dataTable['output_type'] = 'display_data';\n",
              "          await google.colab.output.renderOutput(dataTable, element);\n",
              "          const docLink = document.createElement('div');\n",
              "          docLink.innerHTML = docLinkHtml;\n",
              "          element.appendChild(docLink);\n",
              "        }\n",
              "      </script>\n",
              "    </div>\n",
              "  </div>\n",
              "  "
            ]
          },
          "metadata": {},
          "execution_count": 73
        }
      ]
    },
    {
      "cell_type": "code",
      "source": [
        "scaler = StandardScaler()\n",
        "df_normalized = pd.DataFrame(scaler.fit_transform(df), columns=df.columns)"
      ],
      "metadata": {
        "id": "sZLOSAy9aY88",
        "colab": {
          "base_uri": "https://localhost:8080/"
        },
        "outputId": "7aa809c8-7123-4041-a84e-93a73ea4ea53"
      },
      "execution_count": 20,
      "outputs": [
        {
          "output_type": "stream",
          "name": "stderr",
          "text": [
            "/usr/local/lib/python3.9/dist-packages/sklearn/utils/extmath.py:1047: RuntimeWarning: invalid value encountered in true_divide\n",
            "  updated_mean = (last_sum + new_sum) / updated_sample_count\n",
            "/usr/local/lib/python3.9/dist-packages/sklearn/utils/extmath.py:1052: RuntimeWarning: invalid value encountered in true_divide\n",
            "  T = new_sum / new_sample_count\n",
            "/usr/local/lib/python3.9/dist-packages/sklearn/utils/extmath.py:1072: RuntimeWarning: invalid value encountered in true_divide\n",
            "  new_unnormalized_variance -= correction**2 / new_sample_count\n"
          ]
        }
      ]
    },
    {
      "cell_type": "code",
      "source": [
        "df_normalized.head()"
      ],
      "metadata": {
        "id": "AmVz7rwqadhI"
      },
      "execution_count": null,
      "outputs": []
    },
    {
      "cell_type": "code",
      "source": [
        "X_train, X_test, y_train, y_test = train_test_split(df_normalized, y, test_size=0.10, random_state=42)"
      ],
      "metadata": {
        "id": "iPrxjJykbCmY"
      },
      "execution_count": 21,
      "outputs": []
    },
    {
      "cell_type": "code",
      "source": [
        "xgb_test_r = xgb.XGBRegressor(objective ='reg:linear',\n",
        "                  n_estimators = 28, seed = 42)"
      ],
      "metadata": {
        "id": "r8tGox1WaFqc"
      },
      "execution_count": 23,
      "outputs": []
    },
    {
      "cell_type": "code",
      "source": [
        "xgb_test_r.fit(X_train, y_train)"
      ],
      "metadata": {
        "colab": {
          "base_uri": "https://localhost:8080/",
          "height": 265
        },
        "id": "HnvwsuDCapsI",
        "outputId": "2f937f94-96e9-4255-8524-a2c1dde3550a"
      },
      "execution_count": 24,
      "outputs": [
        {
          "output_type": "stream",
          "name": "stdout",
          "text": [
            "[14:49:30] WARNING: ../src/objective/regression_obj.cu:213: reg:linear is now deprecated in favor of reg:squarederror.\n"
          ]
        },
        {
          "output_type": "execute_result",
          "data": {
            "text/plain": [
              "XGBRegressor(base_score=None, booster=None, callbacks=None,\n",
              "             colsample_bylevel=None, colsample_bynode=None,\n",
              "             colsample_bytree=None, early_stopping_rounds=None,\n",
              "             enable_categorical=False, eval_metric=None, feature_types=None,\n",
              "             gamma=None, gpu_id=None, grow_policy=None, importance_type=None,\n",
              "             interaction_constraints=None, learning_rate=None, max_bin=None,\n",
              "             max_cat_threshold=None, max_cat_to_onehot=None,\n",
              "             max_delta_step=None, max_depth=None, max_leaves=None,\n",
              "             min_child_weight=None, missing=nan, monotone_constraints=None,\n",
              "             n_estimators=28, n_jobs=None, num_parallel_tree=None,\n",
              "             objective='reg:linear', predictor=None, ...)"
            ],
            "text/html": [
              "<style>#sk-container-id-1 {color: black;background-color: white;}#sk-container-id-1 pre{padding: 0;}#sk-container-id-1 div.sk-toggleable {background-color: white;}#sk-container-id-1 label.sk-toggleable__label {cursor: pointer;display: block;width: 100%;margin-bottom: 0;padding: 0.3em;box-sizing: border-box;text-align: center;}#sk-container-id-1 label.sk-toggleable__label-arrow:before {content: \"▸\";float: left;margin-right: 0.25em;color: #696969;}#sk-container-id-1 label.sk-toggleable__label-arrow:hover:before {color: black;}#sk-container-id-1 div.sk-estimator:hover label.sk-toggleable__label-arrow:before {color: black;}#sk-container-id-1 div.sk-toggleable__content {max-height: 0;max-width: 0;overflow: hidden;text-align: left;background-color: #f0f8ff;}#sk-container-id-1 div.sk-toggleable__content pre {margin: 0.2em;color: black;border-radius: 0.25em;background-color: #f0f8ff;}#sk-container-id-1 input.sk-toggleable__control:checked~div.sk-toggleable__content {max-height: 200px;max-width: 100%;overflow: auto;}#sk-container-id-1 input.sk-toggleable__control:checked~label.sk-toggleable__label-arrow:before {content: \"▾\";}#sk-container-id-1 div.sk-estimator input.sk-toggleable__control:checked~label.sk-toggleable__label {background-color: #d4ebff;}#sk-container-id-1 div.sk-label input.sk-toggleable__control:checked~label.sk-toggleable__label {background-color: #d4ebff;}#sk-container-id-1 input.sk-hidden--visually {border: 0;clip: rect(1px 1px 1px 1px);clip: rect(1px, 1px, 1px, 1px);height: 1px;margin: -1px;overflow: hidden;padding: 0;position: absolute;width: 1px;}#sk-container-id-1 div.sk-estimator {font-family: monospace;background-color: #f0f8ff;border: 1px dotted black;border-radius: 0.25em;box-sizing: border-box;margin-bottom: 0.5em;}#sk-container-id-1 div.sk-estimator:hover {background-color: #d4ebff;}#sk-container-id-1 div.sk-parallel-item::after {content: \"\";width: 100%;border-bottom: 1px solid gray;flex-grow: 1;}#sk-container-id-1 div.sk-label:hover label.sk-toggleable__label {background-color: #d4ebff;}#sk-container-id-1 div.sk-serial::before {content: \"\";position: absolute;border-left: 1px solid gray;box-sizing: border-box;top: 0;bottom: 0;left: 50%;z-index: 0;}#sk-container-id-1 div.sk-serial {display: flex;flex-direction: column;align-items: center;background-color: white;padding-right: 0.2em;padding-left: 0.2em;position: relative;}#sk-container-id-1 div.sk-item {position: relative;z-index: 1;}#sk-container-id-1 div.sk-parallel {display: flex;align-items: stretch;justify-content: center;background-color: white;position: relative;}#sk-container-id-1 div.sk-item::before, #sk-container-id-1 div.sk-parallel-item::before {content: \"\";position: absolute;border-left: 1px solid gray;box-sizing: border-box;top: 0;bottom: 0;left: 50%;z-index: -1;}#sk-container-id-1 div.sk-parallel-item {display: flex;flex-direction: column;z-index: 1;position: relative;background-color: white;}#sk-container-id-1 div.sk-parallel-item:first-child::after {align-self: flex-end;width: 50%;}#sk-container-id-1 div.sk-parallel-item:last-child::after {align-self: flex-start;width: 50%;}#sk-container-id-1 div.sk-parallel-item:only-child::after {width: 0;}#sk-container-id-1 div.sk-dashed-wrapped {border: 1px dashed gray;margin: 0 0.4em 0.5em 0.4em;box-sizing: border-box;padding-bottom: 0.4em;background-color: white;}#sk-container-id-1 div.sk-label label {font-family: monospace;font-weight: bold;display: inline-block;line-height: 1.2em;}#sk-container-id-1 div.sk-label-container {text-align: center;}#sk-container-id-1 div.sk-container {/* jupyter's `normalize.less` sets `[hidden] { display: none; }` but bootstrap.min.css set `[hidden] { display: none !important; }` so we also need the `!important` here to be able to override the default hidden behavior on the sphinx rendered scikit-learn.org. See: https://github.com/scikit-learn/scikit-learn/issues/21755 */display: inline-block !important;position: relative;}#sk-container-id-1 div.sk-text-repr-fallback {display: none;}</style><div id=\"sk-container-id-1\" class=\"sk-top-container\"><div class=\"sk-text-repr-fallback\"><pre>XGBRegressor(base_score=None, booster=None, callbacks=None,\n",
              "             colsample_bylevel=None, colsample_bynode=None,\n",
              "             colsample_bytree=None, early_stopping_rounds=None,\n",
              "             enable_categorical=False, eval_metric=None, feature_types=None,\n",
              "             gamma=None, gpu_id=None, grow_policy=None, importance_type=None,\n",
              "             interaction_constraints=None, learning_rate=None, max_bin=None,\n",
              "             max_cat_threshold=None, max_cat_to_onehot=None,\n",
              "             max_delta_step=None, max_depth=None, max_leaves=None,\n",
              "             min_child_weight=None, missing=nan, monotone_constraints=None,\n",
              "             n_estimators=28, n_jobs=None, num_parallel_tree=None,\n",
              "             objective=&#x27;reg:linear&#x27;, predictor=None, ...)</pre><b>In a Jupyter environment, please rerun this cell to show the HTML representation or trust the notebook. <br />On GitHub, the HTML representation is unable to render, please try loading this page with nbviewer.org.</b></div><div class=\"sk-container\" hidden><div class=\"sk-item\"><div class=\"sk-estimator sk-toggleable\"><input class=\"sk-toggleable__control sk-hidden--visually\" id=\"sk-estimator-id-1\" type=\"checkbox\" checked><label for=\"sk-estimator-id-1\" class=\"sk-toggleable__label sk-toggleable__label-arrow\">XGBRegressor</label><div class=\"sk-toggleable__content\"><pre>XGBRegressor(base_score=None, booster=None, callbacks=None,\n",
              "             colsample_bylevel=None, colsample_bynode=None,\n",
              "             colsample_bytree=None, early_stopping_rounds=None,\n",
              "             enable_categorical=False, eval_metric=None, feature_types=None,\n",
              "             gamma=None, gpu_id=None, grow_policy=None, importance_type=None,\n",
              "             interaction_constraints=None, learning_rate=None, max_bin=None,\n",
              "             max_cat_threshold=None, max_cat_to_onehot=None,\n",
              "             max_delta_step=None, max_depth=None, max_leaves=None,\n",
              "             min_child_weight=None, missing=nan, monotone_constraints=None,\n",
              "             n_estimators=28, n_jobs=None, num_parallel_tree=None,\n",
              "             objective=&#x27;reg:linear&#x27;, predictor=None, ...)</pre></div></div></div></div></div>"
            ]
          },
          "metadata": {},
          "execution_count": 24
        }
      ]
    },
    {
      "cell_type": "code",
      "source": [
        "mean_absolute_error(y_test, xgb_test_r.predict(X_test))"
      ],
      "metadata": {
        "colab": {
          "base_uri": "https://localhost:8080/"
        },
        "id": "C9Sk-b0WaujF",
        "outputId": "8b043ee3-0d56-4d47-a2bc-a794ed44d1de"
      },
      "execution_count": 25,
      "outputs": [
        {
          "output_type": "execute_result",
          "data": {
            "text/plain": [
              "19163.13172200028"
            ]
          },
          "metadata": {},
          "execution_count": 25
        }
      ]
    },
    {
      "cell_type": "code",
      "source": [
        "import pickle"
      ],
      "metadata": {
        "id": "JahQCDvFbJxD"
      },
      "execution_count": 26,
      "outputs": []
    },
    {
      "cell_type": "code",
      "source": [
        "with open('/content/Model.pkl', 'wb') as f:\n",
        "    pickle.dump(xgb_test_r, f)"
      ],
      "metadata": {
        "id": "jXbG8BWGMcRY"
      },
      "execution_count": 28,
      "outputs": []
    },
    {
      "cell_type": "code",
      "source": [
        "with open('/content/Model.pkl', 'rb') as f:\n",
        "    t1 = pickle.load(f)"
      ],
      "metadata": {
        "id": "A7MGiqm-MoCt"
      },
      "execution_count": 29,
      "outputs": []
    },
    {
      "cell_type": "code",
      "source": [
        "mean_absolute_error(y_test, t1.predict(X_test))"
      ],
      "metadata": {
        "colab": {
          "base_uri": "https://localhost:8080/"
        },
        "id": "MKu9jUY8M-fT",
        "outputId": "fde2a775-5b92-4548-b830-e45131b86c91"
      },
      "execution_count": 30,
      "outputs": [
        {
          "output_type": "execute_result",
          "data": {
            "text/plain": [
              "19163.13172200028"
            ]
          },
          "metadata": {},
          "execution_count": 30
        }
      ]
    },
    {
      "cell_type": "code",
      "source": [],
      "metadata": {
        "id": "VoZLrJJvNCxf"
      },
      "execution_count": null,
      "outputs": []
    }
  ]
}